{
 "cells": [
  {
   "cell_type": "code",
   "execution_count": 54,
   "id": "0e71fa52",
   "metadata": {},
   "outputs": [
    {
     "name": "stdout",
     "output_type": "stream",
     "text": [
      "My name is Muhammad Abubakar. I am 31 years old and I live in Pakistan.\n"
     ]
    }
   ],
   "source": [
    "name = 'Muhammad Abubakar'\n",
    "age = '31'\n",
    "country = 'Pakistan'\n",
    "\n",
    "print(\"My name is \" + name + \\\n",
    "      \". I am \" + age + \" years old \" + \\\n",
    "      \"and I live in \" + country + '.')\n"
   ]
  },
  {
   "cell_type": "code",
   "execution_count": 1,
   "id": "ad49c4fa",
   "metadata": {},
   "outputs": [
    {
     "name": "stdout",
     "output_type": "stream",
     "text": [
      "I bought 2 phones at $2000 each, for a total of $4000.\n"
     ]
    }
   ],
   "source": [
    "item = \"phones\"\n",
    "price = 2000\n",
    "quantity = 2\n",
    "total_cost = price * quantity\n",
    "info = \"I bought {} {} at ${} each, for a total of ${}.\".format(quantity,item,price,total_cost)\n",
    "\n",
    "print(info)"
   ]
  },
  {
   "cell_type": "code",
   "execution_count": 11,
   "id": "29dc7b66",
   "metadata": {},
   "outputs": [
    {
     "name": "stdout",
     "output_type": "stream",
     "text": [
      "\n",
      "\"The temperature in Karachi is 34°C.\"\n",
      "\n"
     ]
    }
   ],
   "source": [
    "city = \"Karachi\"\n",
    "temperature = \"34°C\"\n",
    "info = f\"\"\"\n",
    "\"The temperature in {city} is {temperature}.\"\n",
    "\"\"\"\n",
    "print(info)"
   ]
  },
  {
   "cell_type": "code",
   "execution_count": 23,
   "id": "120d72be",
   "metadata": {},
   "outputs": [
    {
     "name": "stdout",
     "output_type": "stream",
     "text": [
      "My name is Muhammad Abubakar. I am 31 years old.\n"
     ]
    }
   ],
   "source": [
    "first_name = \"Muhammad\"\n",
    "last_name = \"Abubakar\"\n",
    "birth_year = 1992\n",
    "current_year = 2023\n",
    "age = current_year - birth_year\n",
    "info = \"My name is %s %s. I am %d years old.\" %(first_name,last_name,age)\n",
    "print(info)"
   ]
  },
  {
   "cell_type": "code",
   "execution_count": 52,
   "id": "5cff6006",
   "metadata": {},
   "outputs": [
    {
     "name": "stdout",
     "output_type": "stream",
     "text": [
      "I bought a denim shirt whose price is $3000 but I get it at a discounted price which is $2940.0\n"
     ]
    }
   ],
   "source": [
    "product = \"denim shirt\"\n",
    "discount = 2    #2% discount\n",
    "original_price = 3000\n",
    "discounted_price = original_price * (1 - 2 / 100)\n",
    "info = \"I bought a {} whose price is ${} but I get it at a discounted price which is ${}\".format(product,original_price,discounted_price)\n",
    "print(info)"
   ]
  },
  {
   "cell_type": "code",
   "execution_count": 51,
   "id": "17eca5b5",
   "metadata": {},
   "outputs": [
    {
     "name": "stdout",
     "output_type": "stream",
     "text": [
      "\n",
      "\"I bought a denim shirt whose price is $3000 but I get it at a discounted price which is $2910.0\"\n",
      "\n"
     ]
    }
   ],
   "source": [
    "product = \"denim shirt\"\n",
    "discount = 3          #3% discount\n",
    "original_price = 3000\n",
    "discounted_price = original_price *  (1 - 3 / 100)\n",
    "info = f\"\"\"\n",
    "\"I bought a {product} whose price is ${original_price} but I get it at a discounted price which is ${discounted_price}\"\n",
    "\"\"\"\n",
    "print(info)"
   ]
  },
  {
   "cell_type": "code",
   "execution_count": 53,
   "id": "93ac2ad2",
   "metadata": {},
   "outputs": [
    {
     "name": "stdout",
     "output_type": "stream",
     "text": [
      "I bought a denim shirt whose price is $3000 but I get it at a discounted price which is $2880.\n"
     ]
    }
   ],
   "source": [
    "product = \"denim shirt\"\n",
    "discount = 4          #4% discount\n",
    "original_price = 3000\n",
    "discounted_price = original_price *  (1 - 4 / 100)\n",
    "info = \"I bought a %s whose price is $%d but I get it at a discounted price which is $%d.\" %(product,original_price,discounted_price)\n",
    "print(info)"
   ]
  },
  {
   "cell_type": "code",
   "execution_count": 11,
   "id": "e45fc677",
   "metadata": {},
   "outputs": [
    {
     "name": "stdout",
     "output_type": "stream",
     "text": [
      "I bought a denim shirt whose price is $3000 but I get it at a discounted price which is $2850.0\n"
     ]
    }
   ],
   "source": [
    "product = \"denim shirt\"\n",
    "discount = 5          #5% discount\n",
    "original_price = 3000\n",
    "discounted_price = original_price *  (1 - 5 / 100)\n",
    "\n",
    "print(\"I bought a \" + product + \" whose price is $\" + str(original_price) + \" but I get it at a discounted price which is $\"  + str(discounted_price))\n"
   ]
  },
  {
   "cell_type": "code",
   "execution_count": null,
   "id": "4f0cf252",
   "metadata": {},
   "outputs": [],
   "source": []
  }
 ],
 "metadata": {
  "kernelspec": {
   "display_name": "Python 3 (ipykernel)",
   "language": "python",
   "name": "python3"
  },
  "language_info": {
   "codemirror_mode": {
    "name": "ipython",
    "version": 3
   },
   "file_extension": ".py",
   "mimetype": "text/x-python",
   "name": "python",
   "nbconvert_exporter": "python",
   "pygments_lexer": "ipython3",
   "version": "3.11.3"
  }
 },
 "nbformat": 4,
 "nbformat_minor": 5
}
